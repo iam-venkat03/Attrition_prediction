{
  "nbformat": 4,
  "nbformat_minor": 0,
  "metadata": {
    "colab": {
      "name": "Employee_Attrition_Prediction.ipynb",
      "provenance": [],
      "collapsed_sections": []
    },
    "kernelspec": {
      "name": "python3",
      "display_name": "Python 3"
    }
  },
  "cells": [
    {
      "cell_type": "code",
      "metadata": {
        "id": "-t9ZvlPnUOgJ",
        "colab_type": "code",
        "colab": {}
      },
      "source": [
        "import pandas as pd\n",
        "import numpy as np\n",
        "import sklearn\n",
        "from sklearn.model_selection import train_test_split\n",
        "from sklearn.preprocessing import LabelEncoder\n",
        "import xgboost as xgb\n",
        "from sklearn.linear_model import LogisticRegression\n",
        "from lightgbm import LGBMClassifier\n",
        "from sklearn.ensemble import RandomForestClassifier"
      ],
      "execution_count": 1,
      "outputs": []
    },
    {
      "cell_type": "code",
      "metadata": {
        "id": "5P0_lFe2pnkE",
        "colab_type": "code",
        "colab": {}
      },
      "source": [
        "train = pd.read_csv('/content/drive/My Drive/train.csv')\n",
        "test = pd.read_csv('/content/drive/My Drive/test.csv')"
      ],
      "execution_count": 2,
      "outputs": []
    },
    {
      "cell_type": "code",
      "metadata": {
        "id": "jWbG5wLUptib",
        "colab_type": "code",
        "colab": {}
      },
      "source": [
        "train.drop(['Id', 'EmployeeNumber'], axis=1, inplace=True)\n",
        "train.drop('Behaviour', axis=1, inplace=True)"
      ],
      "execution_count": 3,
      "outputs": []
    },
    {
      "cell_type": "code",
      "metadata": {
        "id": "ikjTndF_qzvn",
        "colab_type": "code",
        "colab": {}
      },
      "source": [
        "test.drop(['Id', 'EmployeeNumber'], axis=1, inplace=True)\n",
        "test.drop('Behaviour', axis=1, inplace=True)"
      ],
      "execution_count": 4,
      "outputs": []
    },
    {
      "cell_type": "code",
      "metadata": {
        "id": "cbWCe_mesa9a",
        "colab_type": "code",
        "colab": {}
      },
      "source": [
        "train.drop_duplicates(inplace=True)\n",
        "test.drop_duplicates(inplace=True)"
      ],
      "execution_count": 5,
      "outputs": []
    },
    {
      "cell_type": "code",
      "metadata": {
        "id": "mKRjGoAUs9SG",
        "colab_type": "code",
        "colab": {
          "base_uri": "https://localhost:8080/",
          "height": 34
        },
        "outputId": "ec8e916d-bea5-4cdf-f094-1a0519b3b027"
      },
      "source": [
        "(train.shape, test.shape)"
      ],
      "execution_count": 6,
      "outputs": [
        {
          "output_type": "execute_result",
          "data": {
            "text/plain": [
              "((1000, 26), (470, 25))"
            ]
          },
          "metadata": {
            "tags": []
          },
          "execution_count": 6
        }
      ]
    },
    {
      "cell_type": "code",
      "metadata": {
        "id": "aUEGWgPcvaRQ",
        "colab_type": "code",
        "colab": {}
      },
      "source": [
        "from sklearn.preprocessing import LabelEncoder\n",
        "for column in train.columns:\n",
        "              if train[column].dtype == np.number:\n",
        "                              continue\n",
        "              train[column] = LabelEncoder().fit_transform(train[column])\n",
        "for column in test.columns:\n",
        "              if test[column].dtype == np.number:\n",
        "                              continue\n",
        "              test[column] = LabelEncoder().fit_transform(test[column])"
      ],
      "execution_count": 8,
      "outputs": []
    },
    {
      "cell_type": "code",
      "metadata": {
        "id": "mSb-e3-stASD",
        "colab_type": "code",
        "colab": {
          "base_uri": "https://localhost:8080/",
          "height": 275
        },
        "outputId": "5b1ea630-229b-4287-bae6-d950f627a072"
      },
      "source": [
        "count=0\n",
        "columns_list=[]\n",
        "for columns in train.columns:\n",
        "      cm = train['Attrition'].corr(train[columns])\n",
        "      if(cm>0.1 or cm<-0.1):\n",
        "        print(\"%s --> %.4f\" %(columns,cm))\n",
        "        count+=1\n",
        "        columns_list.append(columns)\n",
        "print(\"Total no. of correlated columns with Attrition columns are : %d\" %count)\n",
        "print(columns_list)"
      ],
      "execution_count": 9,
      "outputs": [
        {
          "output_type": "stream",
          "text": [
            "Age --> -0.1518\n",
            "Attrition --> 1.0000\n",
            "JobInvolvement --> -0.1217\n",
            "JobSatisfaction --> -0.1088\n",
            "MaritalStatus --> 0.1476\n",
            "MonthlyIncome --> -0.1972\n",
            "OverTime --> 0.2524\n",
            "StockOptionLevel --> -0.1299\n",
            "TotalWorkingYears --> -0.1845\n",
            "YearsAtCompany --> -0.1603\n",
            "YearsInCurrentRole --> -0.1847\n",
            "YearsWithCurrManager --> -0.1575\n",
            "Total no. of correlated columns with Attrition columns are : 12\n",
            "['Age', 'Attrition', 'JobInvolvement', 'JobSatisfaction', 'MaritalStatus', 'MonthlyIncome', 'OverTime', 'StockOptionLevel', 'TotalWorkingYears', 'YearsAtCompany', 'YearsInCurrentRole', 'YearsWithCurrManager']\n"
          ],
          "name": "stdout"
        }
      ]
    },
    {
      "cell_type": "code",
      "metadata": {
        "id": "p2N03eVouSzO",
        "colab_type": "code",
        "colab": {}
      },
      "source": [
        "for columns in train.columns:\n",
        "  if columns not in columns_list:\n",
        "    train.drop(columns, axis=1, inplace=True)"
      ],
      "execution_count": 10,
      "outputs": []
    },
    {
      "cell_type": "code",
      "metadata": {
        "id": "5NNGzA2ZvnjZ",
        "colab_type": "code",
        "colab": {
          "base_uri": "https://localhost:8080/",
          "height": 34
        },
        "outputId": "6ebcc353-5be4-4b2a-bc93-5e4c183ee88c"
      },
      "source": [
        "train.shape"
      ],
      "execution_count": 11,
      "outputs": [
        {
          "output_type": "execute_result",
          "data": {
            "text/plain": [
              "(1000, 12)"
            ]
          },
          "metadata": {
            "tags": []
          },
          "execution_count": 11
        }
      ]
    },
    {
      "cell_type": "code",
      "metadata": {
        "id": "pks--6wevqUs",
        "colab_type": "code",
        "colab": {}
      },
      "source": [
        "for columns in test.columns:\n",
        "  if columns not in columns_list:\n",
        "    test.drop(columns, axis=1, inplace=True)"
      ],
      "execution_count": 12,
      "outputs": []
    },
    {
      "cell_type": "code",
      "metadata": {
        "id": "9p8VpLHLvu5e",
        "colab_type": "code",
        "colab": {
          "base_uri": "https://localhost:8080/",
          "height": 34
        },
        "outputId": "d2c31a87-26d0-4f00-c0ca-ae400675f399"
      },
      "source": [
        "test.shape"
      ],
      "execution_count": null,
      "outputs": [
        {
          "output_type": "execute_result",
          "data": {
            "text/plain": [
              "(470, 11)"
            ]
          },
          "metadata": {
            "tags": []
          },
          "execution_count": 24
        }
      ]
    },
    {
      "cell_type": "code",
      "metadata": {
        "id": "NcZ8ffB4wOHD",
        "colab_type": "code",
        "colab": {}
      },
      "source": [
        "X = train.drop('Attrition', axis=1)\n",
        "y = train.Attrition"
      ],
      "execution_count": 13,
      "outputs": []
    },
    {
      "cell_type": "code",
      "metadata": {
        "id": "0FIagml5wzBr",
        "colab_type": "code",
        "colab": {}
      },
      "source": [
        "xg = xgb.XGBClassifier(subsample=0.6,colsample_bytree=1.0,min_child_weight=7,max_depth=5,\n",
        "                       learning_rate=0.03,gamma=0.07,\n",
        "                       scale_pos_weight=5,random_state=3)\n",
        "\n",
        "rnd = RandomForestClassifier(n_estimators=500,min_samples_split=80,min_samples_leaf=2,\n",
        "                             max_features='log2',max_depth=8,random_state=3)\n",
        "\n",
        "lgbm = LGBMClassifier(random_state=42)"
      ],
      "execution_count": 14,
      "outputs": []
    },
    {
      "cell_type": "code",
      "metadata": {
        "id": "c09Zh5ivvwQp",
        "colab_type": "code",
        "colab": {}
      },
      "source": [
        "X_train, X_test, y_train, y_test = train_test_split(X, y, test_size = 0.33)"
      ],
      "execution_count": 15,
      "outputs": []
    },
    {
      "cell_type": "code",
      "metadata": {
        "id": "jrf28TM3xCZ1",
        "colab_type": "code",
        "colab": {}
      },
      "source": [
        "xg_model = xg.fit(X, y)"
      ],
      "execution_count": 16,
      "outputs": []
    },
    {
      "cell_type": "code",
      "metadata": {
        "id": "-aExITnWxFDi",
        "colab_type": "code",
        "colab": {}
      },
      "source": [
        "xg_predict_test = xg_model.predict(X_test)\n",
        "xg_predict_train = xg_model.predict(X_train)"
      ],
      "execution_count": 17,
      "outputs": []
    },
    {
      "cell_type": "code",
      "metadata": {
        "id": "CbbEDLMPy_iS",
        "colab_type": "code",
        "colab": {}
      },
      "source": [
        "from sklearn.metrics import accuracy_score\n",
        "from sklearn.metrics import roc_auc_score"
      ],
      "execution_count": 18,
      "outputs": []
    },
    {
      "cell_type": "code",
      "metadata": {
        "id": "qprUN94tzb54",
        "colab_type": "code",
        "colab": {
          "base_uri": "https://localhost:8080/",
          "height": 102
        },
        "outputId": "b9566587-11df-4ceb-aae7-ba8ef5766dc1"
      },
      "source": [
        "print(\"XG Model : \")\n",
        "print(accuracy_score(y_test, xg_predict_test))\n",
        "print(roc_auc_score(y_test, xg_predict_test))\n",
        "print(accuracy_score(y_train, xg_predict_train))\n",
        "print(roc_auc_score(y_train, xg_predict_train))"
      ],
      "execution_count": 19,
      "outputs": [
        {
          "output_type": "stream",
          "text": [
            "XG Model : \n",
            "0.8818181818181818\n",
            "0.8740491886409736\n",
            "0.8895522388059701\n",
            "0.8892780696633585\n"
          ],
          "name": "stdout"
        }
      ]
    },
    {
      "cell_type": "code",
      "metadata": {
        "id": "zRm3CZ_ZzjWk",
        "colab_type": "code",
        "colab": {
          "base_uri": "https://localhost:8080/",
          "height": 102
        },
        "outputId": "ff152ce4-e40e-418f-b281-400c5fb18ef1"
      },
      "source": [
        "rnd_model = rnd.fit(X, y)\n",
        "\n",
        "rnd_predict_test = rnd_model.predict(X_test)\n",
        "rnd_predict_train = rnd_model.predict(X_train)\n",
        "\n",
        "print(\"Random Forest model : \")\n",
        "print(accuracy_score(y_test, rnd_predict_test))\n",
        "print(roc_auc_score(y_test, rnd_predict_test))\n",
        "print(accuracy_score(y_train, rnd_predict_train))\n",
        "print(roc_auc_score(y_train, rnd_predict_train))"
      ],
      "execution_count": 20,
      "outputs": [
        {
          "output_type": "stream",
          "text": [
            "Random Forest model : \n",
            "0.8272727272727273\n",
            "0.5086206896551724\n",
            "0.8626865671641791\n",
            "0.5353535353535354\n"
          ],
          "name": "stdout"
        }
      ]
    },
    {
      "cell_type": "code",
      "metadata": {
        "id": "1JWqxaHt0X1c",
        "colab_type": "code",
        "colab": {
          "base_uri": "https://localhost:8080/",
          "height": 102
        },
        "outputId": "71c1749a-483d-4b36-8ca7-00099846a1d4"
      },
      "source": [
        "lgbm = LGBMClassifier(random_state=42)\n",
        "\n",
        "lgbm_model = lgbm.fit(X, y)\n",
        "\n",
        "lgbm_predict_test = lgbm_model.predict(X_test)\n",
        "lgbm_predict_train = lgbm_model.predict(X_train)\n",
        "\n",
        "print(\"LGBM : \")\n",
        "print(accuracy_score(y_test, lgbm_predict_test))\n",
        "print(roc_auc_score(y_test, lgbm_predict_test))\n",
        "print(accuracy_score(y_train, lgbm_predict_train))\n",
        "print(roc_auc_score(y_train, lgbm_predict_train))"
      ],
      "execution_count": 21,
      "outputs": [
        {
          "output_type": "stream",
          "text": [
            "LGBM : \n",
            "1.0\n",
            "1.0\n",
            "0.9955223880597015\n",
            "0.9890233331564329\n"
          ],
          "name": "stdout"
        }
      ]
    },
    {
      "cell_type": "code",
      "metadata": {
        "id": "wcOhOb_e1ZiG",
        "colab_type": "code",
        "colab": {
          "base_uri": "https://localhost:8080/",
          "height": 34
        },
        "outputId": "f8912760-85f9-4428-8214-4eca7d013425"
      },
      "source": [
        "import joblib\n",
        "\n",
        "filename = 'model.pkl'\n",
        "joblib.dump(lgbm_model, filename)"
      ],
      "execution_count": 30,
      "outputs": [
        {
          "output_type": "execute_result",
          "data": {
            "text/plain": [
              "['model.pkl']"
            ]
          },
          "metadata": {
            "tags": []
          },
          "execution_count": 30
        }
      ]
    },
    {
      "cell_type": "code",
      "metadata": {
        "id": "ZxVjRCGFgnVv",
        "colab_type": "code",
        "colab": {}
      },
      "source": [
        "filename = 'model.pkl'\n",
        "pipe = joblib.load(filename)"
      ],
      "execution_count": 31,
      "outputs": []
    },
    {
      "cell_type": "code",
      "metadata": {
        "id": "v5sdXG0ghz4-",
        "colab_type": "code",
        "colab": {
          "base_uri": "https://localhost:8080/",
          "height": 391
        },
        "outputId": "0f0ae475-e5e8-4b5a-edea-5e86695cda90"
      },
      "source": [
        "pipe.predict(test)"
      ],
      "execution_count": 32,
      "outputs": [
        {
          "output_type": "execute_result",
          "data": {
            "text/plain": [
              "array([0, 0, 0, 0, 0, 0, 0, 0, 0, 0, 0, 0, 0, 0, 0, 0, 1, 0, 0, 0, 0, 1,\n",
              "       0, 0, 0, 0, 0, 0, 1, 0, 0, 0, 1, 0, 0, 0, 0, 0, 0, 0, 1, 0, 0, 0,\n",
              "       0, 0, 0, 0, 0, 0, 0, 0, 0, 1, 0, 0, 0, 1, 0, 0, 0, 0, 0, 0, 0, 0,\n",
              "       0, 0, 0, 0, 0, 0, 0, 0, 1, 1, 0, 0, 0, 1, 0, 0, 0, 0, 0, 0, 0, 0,\n",
              "       0, 0, 0, 0, 0, 0, 1, 1, 0, 0, 0, 0, 0, 0, 0, 0, 0, 0, 0, 0, 0, 0,\n",
              "       0, 1, 0, 0, 0, 0, 0, 0, 0, 0, 0, 0, 0, 0, 0, 0, 0, 0, 0, 0, 0, 0,\n",
              "       0, 0, 0, 0, 1, 0, 0, 0, 0, 0, 0, 0, 0, 1, 0, 0, 0, 0, 0, 1, 0, 1,\n",
              "       0, 0, 0, 0, 0, 0, 0, 0, 0, 0, 0, 0, 0, 0, 0, 0, 0, 0, 0, 0, 0, 0,\n",
              "       0, 0, 0, 1, 0, 0, 0, 0, 0, 0, 0, 0, 0, 0, 0, 0, 0, 0, 1, 1, 0, 0,\n",
              "       0, 0, 0, 0, 1, 0, 0, 0, 0, 0, 0, 1, 0, 0, 0, 0, 1, 1, 1, 0, 0, 0,\n",
              "       0, 0, 0, 0, 0, 0, 0, 0, 0, 0, 0, 0, 0, 0, 0, 0, 0, 0, 0, 0, 0, 0,\n",
              "       0, 1, 0, 0, 0, 0, 0, 0, 0, 0, 0, 0, 0, 1, 0, 0, 0, 0, 0, 0, 1, 1,\n",
              "       0, 0, 0, 0, 0, 0, 0, 0, 1, 0, 0, 0, 0, 0, 0, 0, 0, 0, 0, 0, 1, 1,\n",
              "       0, 0, 0, 0, 1, 0, 0, 0, 0, 0, 0, 0, 0, 0, 0, 0, 0, 1, 0, 0, 0, 0,\n",
              "       0, 0, 0, 0, 0, 0, 0, 1, 0, 0, 0, 0, 0, 0, 0, 0, 1, 0, 0, 0, 0, 0,\n",
              "       0, 1, 0, 0, 0, 0, 0, 0, 0, 1, 0, 1, 0, 0, 0, 0, 0, 0, 0, 0, 0, 0,\n",
              "       0, 0, 0, 0, 0, 0, 0, 0, 0, 0, 0, 0, 1, 0, 0, 0, 0, 0, 0, 0, 0, 0,\n",
              "       0, 0, 0, 0, 0, 0, 1, 0, 0, 0, 1, 0, 1, 1, 0, 1, 0, 0, 0, 0, 0, 1,\n",
              "       1, 0, 0, 0, 0, 0, 0, 0, 0, 0, 0, 1, 0, 0, 0, 0, 0, 0, 0, 0, 1, 0,\n",
              "       0, 0, 1, 0, 0, 0, 0, 0, 0, 0, 0, 0, 0, 0, 0, 0, 0, 0, 0, 0, 0, 0,\n",
              "       0, 0, 0, 0, 0, 0, 0, 0, 0, 0, 0, 0, 0, 0, 0, 0, 0, 0, 0, 0, 0, 0,\n",
              "       0, 0, 1, 0, 1, 0, 0, 0])"
            ]
          },
          "metadata": {
            "tags": []
          },
          "execution_count": 32
        }
      ]
    },
    {
      "cell_type": "code",
      "metadata": {
        "id": "uxVEoWVGh2O4",
        "colab_type": "code",
        "colab": {}
      },
      "source": [
        ""
      ],
      "execution_count": null,
      "outputs": []
    }
  ]
}